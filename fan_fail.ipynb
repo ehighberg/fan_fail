{
 "cells": [
  {
   "cell_type": "code",
   "execution_count": 15,
   "metadata": {},
   "outputs": [],
   "source": [
    "import numpy as np\n",
    "import pandas as pd\n",
    "import pickle\n",
    "import os\n",
    "import matplotlib.pyplot as plt"
   ]
  },
  {
   "cell_type": "code",
   "execution_count": 19,
   "metadata": {},
   "outputs": [],
   "source": [
    "%matplotlib inline\n",
    "np.random.seed(42)"
   ]
  },
  {
   "cell_type": "code",
   "execution_count": 49,
   "metadata": {},
   "outputs": [],
   "source": [
    "def import_data(filepath):\n",
    "    col_names = ['engine_id', 'cycle', 'setting1', 'setting2', 'setting3']\n",
    "    col_names.extend(['sensor%d' % i for i in range(1, 22)])\n",
    "    col_names.append('dummy')\n",
    "    \n",
    "    df = pd.read_csv(filepath, sep=' ', index_col=False, names=col_names, header=None)\n",
    "    df.drop(labels='dummy', axis=1, inplace=True)\n",
    "\n",
    "    return df"
   ]
  },
  {
   "cell_type": "code",
   "execution_count": 108,
   "metadata": {},
   "outputs": [],
   "source": [
    "def adjust_RUL(df):\n",
    "    \n",
    "    def total_time(engine_id):\n",
    "        return max(df[df['engine_id'] == engine_id]['cycle'])\n",
    "    \n",
    "    df['RUL'] = df.apply(lambda row: int(row['RUL'] + total_time(row['engine_id']) - row['cycle']), axis=1)\n",
    "    return df\n",
    "\n",
    "\n",
    "def add_warnings(df, w0, w1):\n",
    "    df['w1'] = df.apply(lambda row: 1 if row['RUL'] <= w1 else 0, axis=1)\n",
    "    df['w0'] = df.apply(lambda row: int(row['w1'] + 1 if row['RUL'] <= w0 else row['w1']), axis=1)\n",
    "    return df\n",
    "\n",
    "\n",
    "def label_df(df, w0=15, w1=30):\n",
    "    df = adjust_RUL(df)\n",
    "    df = add_warnings(df, w0, w1)\n",
    "    return df"
   ]
  },
  {
   "cell_type": "code",
   "execution_count": 109,
   "metadata": {
    "scrolled": false
   },
   "outputs": [
    {
     "name": "stdout",
     "output_type": "stream",
     "text": [
      "Train DF shape: (20631, 29)\n"
     ]
    }
   ],
   "source": [
    "train = import_data('./data/PM_train.txt')\n",
    "train['RUL'] = 0\n",
    "train = label_df(train)\n",
    "print('Train DF shape:', train.shape)"
   ]
  },
  {
   "cell_type": "code",
   "execution_count": 90,
   "metadata": {
    "scrolled": true
   },
   "outputs": [],
   "source": [
    "val_test = import_data('./data/PM_test.txt')\n",
    "\n",
    "RULs = pd.read_csv('./data/PM_truth.txt', names=['RUL'])\n",
    "RULs['engine_id'] = pd.Series([i for i in range(1, 101)])\n",
    "\n",
    "val_test = val_test.merge(RULs, on='engine_id')\n",
    "val_test = label_df(val_test)"
   ]
  },
  {
   "cell_type": "code",
   "execution_count": 91,
   "metadata": {},
   "outputs": [
    {
     "name": "stdout",
     "output_type": "stream",
     "text": [
      "Validation DF shape: (6927, 29)\n",
      "Test DF shape: (6169, 29)\n"
     ]
    }
   ],
   "source": [
    "val_ids = np.random.choice([i for i in range(1, 101)], size=50, replace=False)\n",
    "\n",
    "val = val_test[val_test['engine_id'].isin(val_ids)]\n",
    "test = val_test[~val_test['engine_id'].isin(val_ids)]\n",
    "\n",
    "print('Validation DF shape:', val.shape)\n",
    "print('Test DF shape:', test.shape)"
   ]
  },
  {
   "cell_type": "code",
   "execution_count": null,
   "metadata": {},
   "outputs": [],
   "source": []
  }
 ],
 "metadata": {
  "kernelspec": {
   "display_name": "Python 3",
   "language": "python",
   "name": "python3"
  },
  "language_info": {
   "codemirror_mode": {
    "name": "ipython",
    "version": 3
   },
   "file_extension": ".py",
   "mimetype": "text/x-python",
   "name": "python",
   "nbconvert_exporter": "python",
   "pygments_lexer": "ipython3",
   "version": "3.7.2"
  }
 },
 "nbformat": 4,
 "nbformat_minor": 2
}
